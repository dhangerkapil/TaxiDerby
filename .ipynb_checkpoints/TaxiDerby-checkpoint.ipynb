{
 "cells": [
  {
   "cell_type": "code",
   "execution_count": 1,
   "metadata": {
    "ExecuteTime": {
     "end_time": "2017-07-26T02:36:56.775666Z",
     "start_time": "2017-07-26T02:36:56.613140Z"
    }
   },
   "outputs": [],
   "source": [
    "import numpy as np\n",
    "import pandas as pd\n",
    "import seaborn as sns\n",
    "import matplotlib.pyplot as plt\n",
    "from math import radians, cos, sin, asin, sqrt \n",
    "from tqdm import tqdm_notebook\n",
    "from sklearn.preprocessing import LabelEncoder\n",
    "from sklearn.metrics import mean_squared_error\n",
    "from sklearn.cluster import MiniBatchKMeans\n",
    "from sklearn.ensemble import RandomForestRegressor, GradientBoostingRegressor\n",
    "from sklearn.svm import SVR\n",
    "from sklearn.model_selection import train_test_split\n",
    "from sklearn.model_selection import cross_val_score\n",
    "from sklearn.decomposition import PCA\n",
    "import calendar\n",
    "import xgboost as xgb\n",
    "from datetime import datetime\n",
    "from datetime import time\n",
    "from datetime import date\n",
    "\n",
    "%matplotlib inline"
   ]
  },
  {
   "cell_type": "code",
   "execution_count": 2,
   "metadata": {
    "ExecuteTime": {
     "end_time": "2017-07-26T17:46:50.574783Z",
     "start_time": "2017-07-26T17:46:50.534328Z"
    }
   },
   "outputs": [],
   "source": [
    "def haversine_np(lon1, lat1, lon2, lat2):\n",
    "    \"\"\"\n",
    "    Calculate the great circle distance between two points\n",
    "    on the earth (specified in decimal degrees)\n",
    "    \"\"\"\n",
    "    lon1, lat1, lon2, lat2 = map(np.radians, [lon1, lat1, lon2, lat2])\n",
    "\n",
    "    dlon = lon2 - lon1\n",
    "    dlat = lat2 - lat1\n",
    "\n",
    "    a = np.sin(dlat/2.0)**2 + np.cos(lat1) * np.cos(lat2) * np.sin(dlon/2.0)**2\n",
    "\n",
    "    c = 2 * np.arcsin(np.sqrt(a))\n",
    "    km = 6367 * c\n",
    "    return km\n",
    "\n",
    "def distance_manhattan(lon1, lat1, lon2, lat2):\n",
    "    a = haversine_np(lon1, lat1, lon2, lat1)\n",
    "    b = haversine_np(lon1, lat1, lon1, lat2)\n",
    "    return a+b\n",
    "\n",
    "def bearing_array(lon1, lat1, lon2, lat2):\n",
    "    lon_delta_rad = np.radians(lon2 - lon1)\n",
    "    lon1, lat1, lon2, lat2 = map(np.radians, [lon1, lat1, lon2, lat2])\n",
    "    y = np.sin(lon_delta_rad) * np.cos(lat2)\n",
    "    x = np.cos(lat1) * np.sin(lat2) - np.sin(lat1) * np.cos(lat2) * np.cos(lon_delta_rad)\n",
    "    return np.degrees(np.arctan2(y, x))"
   ]
  },
  {
   "cell_type": "code",
   "execution_count": 3,
   "metadata": {
    "ExecuteTime": {
     "end_time": "2017-07-26T17:46:50.623593Z",
     "start_time": "2017-07-26T17:46:50.576605Z"
    }
   },
   "outputs": [],
   "source": [
    "#def get_time_stats(df):\n",
    "    \n",
    "def get_distances(df):\n",
    "  \n",
    "    df['distance'] = haversine_np(df['pickup_longitude'],\n",
    "                                     df['pickup_latitude'],\n",
    "                                     df['dropoff_longitude'],\n",
    "                                     df['dropoff_latitude'])\n",
    "    df['distance_manhattan'] = distance_manhattan(df['pickup_longitude'],\n",
    "                                                     df['pickup_latitude'],\n",
    "                                                     df['dropoff_longitude'],\n",
    "                                                     df['dropoff_latitude'])\n",
    "    df['bearing'] = bearing_array(df['pickup_longitude'],\n",
    "                                     df['pickup_latitude'],\n",
    "                                     df['dropoff_longitude'],\n",
    "                                     df['dropoff_latitude'])\n",
    "    df[\"mean_speed\"] = (df.distance / df.trip_duration)*3600\n",
    "    df['alone'] = (df['passenger_count']==1).apply(int)\n",
    "    df['center_latitude'] = (df['pickup_latitude'] + df['dropoff_latitude']) / 2\n",
    "    df['center_longitude'] = (df['pickup_longitude'] + df['dropoff_longitude']) / 2\n",
    "    return df"
   ]
  },
  {
   "cell_type": "code",
   "execution_count": null,
   "metadata": {
    "ExecuteTime": {
     "end_time": "2017-07-26T17:47:03.718451Z",
     "start_time": "2017-07-26T17:46:50.625450Z"
    }
   },
   "outputs": [],
   "source": []
  },
  {
   "cell_type": "markdown",
   "metadata": {
    "heading_collapsed": true
   },
   "source": [
    "### Distributions"
   ]
  },
  {
   "cell_type": "code",
   "execution_count": null,
   "metadata": {
    "ExecuteTime": {
     "end_time": "2017-07-21T22:49:28.341895Z",
     "start_time": "2017-07-21T22:49:23.610881Z"
    },
    "hidden": true,
    "scrolled": false
   },
   "outputs": [],
   "source": []
  },
  {
   "cell_type": "markdown",
   "metadata": {
    "heading_collapsed": true
   },
   "source": [
    "### Trip duration"
   ]
  },
  {
   "cell_type": "code",
   "execution_count": null,
   "metadata": {
    "ExecuteTime": {
     "end_time": "2017-07-21T18:01:04.749011Z",
     "start_time": "2017-07-21T18:00:07.879926Z"
    },
    "hidden": true
   },
   "outputs": [],
   "source": [
    "#def trip_duration()\n",
    "# drop off time not available for taxis\n",
    "#train trip duration already given "
   ]
  },
  {
   "cell_type": "code",
   "execution_count": null,
   "metadata": {
    "ExecuteTime": {
     "end_time": "2017-07-21T17:52:58.504060Z",
     "start_time": "2017-07-21T17:52:55.325355Z"
    },
    "hidden": true
   },
   "outputs": [],
   "source": []
  },
  {
   "cell_type": "markdown",
   "metadata": {
    "heading_collapsed": true
   },
   "source": [
    "### Loneliness"
   ]
  },
  {
   "cell_type": "code",
   "execution_count": null,
   "metadata": {
    "ExecuteTime": {
     "end_time": "2017-07-21T16:56:08.819932Z",
     "start_time": "2017-07-21T16:56:07.523193Z"
    },
    "hidden": true,
    "scrolled": false
   },
   "outputs": [],
   "source": []
  },
  {
   "cell_type": "markdown",
   "metadata": {
    "heading_collapsed": true
   },
   "source": [
    "### Vendor id"
   ]
  },
  {
   "cell_type": "code",
   "execution_count": null,
   "metadata": {
    "ExecuteTime": {
     "end_time": "2017-07-21T17:00:18.128934Z",
     "start_time": "2017-07-21T17:00:17.882220Z"
    },
    "hidden": true
   },
   "outputs": [],
   "source": []
  },
  {
   "cell_type": "code",
   "execution_count": null,
   "metadata": {
    "ExecuteTime": {
     "end_time": "2017-07-21T17:09:01.016050Z",
     "start_time": "2017-07-21T17:08:59.840090Z"
    },
    "hidden": true
   },
   "outputs": [],
   "source": []
  },
  {
   "cell_type": "code",
   "execution_count": null,
   "metadata": {
    "ExecuteTime": {
     "end_time": "2017-07-21T17:30:58.298436Z",
     "start_time": "2017-07-21T17:30:53.481759Z"
    },
    "hidden": true
   },
   "outputs": [],
   "source": []
  },
  {
   "cell_type": "markdown",
   "metadata": {
    "heading_collapsed": true
   },
   "source": [
    "### Traffic"
   ]
  },
  {
   "cell_type": "code",
   "execution_count": null,
   "metadata": {
    "ExecuteTime": {
     "end_time": "2017-07-21T22:26:59.649836Z",
     "start_time": "2017-07-21T22:26:58.797853Z"
    },
    "hidden": true
   },
   "outputs": [],
   "source": []
  },
  {
   "cell_type": "markdown",
   "metadata": {
    "heading_collapsed": true
   },
   "source": [
    "### Cleaning extreme trips"
   ]
  },
  {
   "cell_type": "code",
   "execution_count": null,
   "metadata": {
    "ExecuteTime": {
     "end_time": "2017-07-21T18:05:15.483252Z",
     "start_time": "2017-07-21T18:05:15.412919Z"
    },
    "hidden": true
   },
   "outputs": [],
   "source": [
    "def clean(filename)\n",
    "    data = pd.read_csv(filename)\n",
    "    data.dropna()\n",
    "    data.to_csv(‘cleanfile.csv’ encoding=’utf-8’)\n",
    "\n",
    "\n",
    "\n",
    "\n"
   ]
  },
  {
   "cell_type": "code",
   "execution_count": null,
   "metadata": {
    "ExecuteTime": {
     "end_time": "2017-07-21T18:17:57.695635Z",
     "start_time": "2017-07-21T18:17:56.771949Z"
    },
    "hidden": true,
    "scrolled": false
   },
   "outputs": [],
   "source": []
  },
  {
   "cell_type": "code",
   "execution_count": null,
   "metadata": {
    "ExecuteTime": {
     "end_time": "2017-07-21T18:23:03.546185Z",
     "start_time": "2017-07-21T18:23:03.540206Z"
    },
    "hidden": true
   },
   "outputs": [],
   "source": []
  },
  {
   "cell_type": "markdown",
   "metadata": {},
   "source": [
    "### Clustering"
   ]
  },
  {
   "cell_type": "code",
   "execution_count": null,
   "metadata": {
    "ExecuteTime": {
     "end_time": "2017-07-26T17:47:07.713345Z",
     "start_time": "2017-07-26T17:47:06.017192Z"
    }
   },
   "outputs": [],
   "source": [
    "def (pickup_datetime, month)\n",
    "#return which month the pickup took place\n",
    "    d= pickup_datetime\n",
    "    month = d.strf(\"%B\")\n",
    "    return month"
   ]
  },
  {
   "cell_type": "code",
   "execution_count": null,
   "metadata": {
    "ExecuteTime": {
     "end_time": "2017-07-26T17:47:11.736578Z",
     "start_time": "2017-07-26T17:47:07.714598Z"
    }
   },
   "outputs": [],
   "source": [
    "def (pickup_datetime, day)\n",
    "#return which day of the month the pickup took place\n",
    "    d= pickup_datetime\n",
    "    day = d.strf(\"%a\")\n",
    "    return day"
   ]
  },
  {
   "cell_type": "code",
   "execution_count": null,
   "metadata": {
    "ExecuteTime": {
     "end_time": "2017-07-26T17:47:13.515769Z",
     "start_time": "2017-07-26T17:47:11.738005Z"
    }
   },
   "outputs": [],
   "source": [
    "def (pickup_datetime, rideday)\n",
    "#return which day of the week the pickup took place\n",
    "#weekday returns 0 (monday) through 6 (sunday)\n",
    "    wd=date.weekday(pickup_datetime)\n",
    "    #Days start at 0 for monday\n",
    "    days= [\"monday\",\"tuesday\",\"wednesday\",\"thursday\",\"friday\",\"saturday\",\"sunday\"]\n",
    "    print(\"Today is day number %d\" % wd)\n",
    "    print(\"which is a \" + days[wd])\n",
    "    rideday = days[wd]\n",
    "    return rideday"
   ]
  },
  {
   "cell_type": "code",
   "execution_count": null,
   "metadata": {
    "ExecuteTime": {
     "end_time": "2017-07-26T17:47:49.863820Z",
     "start_time": "2017-07-26T17:47:38.495475Z"
    },
    "scrolled": true
   },
   "outputs": [],
   "source": [
    "def (pickup_datetime, year)\n",
    "#return which year the pickup took place\n",
    "    d= pickup_datetime\n",
    "    year = d.strf(\"%Y\")\n",
    "    return year"
   ]
  },
  {
   "cell_type": "code",
   "execution_count": null,
   "metadata": {},
   "outputs": [],
   "source": [
    "def (pickup_datetime, minute)\n",
    "#return which minute after the top of the hour the pickup took place\n",
    "    d= pickup_datetime\n",
    "    year = d.strf(\"%M\")\n",
    "    return minute"
   ]
  },
  {
   "cell_type": "code",
   "execution_count": null,
   "metadata": {},
   "outputs": [],
   "source": [
    "def (pickup_datetime, weeknum)\n",
    "#return which week number 1-52 the pickup took place\n",
    "    d= pickup_datetime\n",
    "    weeknum = d.isocalendar()[1]\n",
    "    return weeknum"
   ]
  },
  {
   "cell_type": "code",
   "execution_count": null,
   "metadata": {},
   "outputs": [],
   "source": [
    "def (pickup_datetime, hour)\n",
    "#return which minute after the top of the hour the pickup took place\n",
    "    d= pickup_datetime\n",
    "    year = d.strf(\"%H\")\n",
    "    return hour"
   ]
  },
  {
   "cell_type": "markdown",
   "metadata": {},
   "source": [
    "### Training"
   ]
  },
  {
   "cell_type": "code",
   "execution_count": null,
   "metadata": {
    "ExecuteTime": {
     "end_time": "2017-07-26T17:47:53.988294Z",
     "start_time": "2017-07-26T17:47:53.839458Z"
    }
   },
   "outputs": [],
   "source": []
  },
  {
   "cell_type": "code",
   "execution_count": null,
   "metadata": {
    "ExecuteTime": {
     "end_time": "2017-07-26T17:48:03.255764Z",
     "start_time": "2017-07-26T17:47:54.119748Z"
    }
   },
   "outputs": [],
   "source": []
  },
  {
   "cell_type": "code",
   "execution_count": null,
   "metadata": {
    "ExecuteTime": {
     "end_time": "2017-07-26T17:48:04.497291Z",
     "start_time": "2017-07-26T17:48:03.257158Z"
    }
   },
   "outputs": [],
   "source": []
  },
  {
   "cell_type": "markdown",
   "metadata": {},
   "source": [
    "#### XGBoost"
   ]
  },
  {
   "cell_type": "code",
   "execution_count": null,
   "metadata": {
    "ExecuteTime": {
     "end_time": "2017-07-26T17:55:57.528663Z",
     "start_time": "2017-07-26T17:48:11.311981Z"
    }
   },
   "outputs": [],
   "source": []
  },
  {
   "cell_type": "code",
   "execution_count": null,
   "metadata": {
    "ExecuteTime": {
     "end_time": "2017-07-26T17:56:54.556847Z",
     "start_time": "2017-07-26T17:56:42.583147Z"
    }
   },
   "outputs": [],
   "source": []
  },
  {
   "cell_type": "code",
   "execution_count": null,
   "metadata": {
    "ExecuteTime": {
     "end_time": "2017-07-26T17:16:44.600942Z",
     "start_time": "2017-07-26T17:16:44.598859Z"
    }
   },
   "outputs": [],
   "source": []
  },
  {
   "cell_type": "markdown",
   "metadata": {},
   "source": [
    "#### Random Forest"
   ]
  },
  {
   "cell_type": "code",
   "execution_count": null,
   "metadata": {
    "ExecuteTime": {
     "start_time": "2017-07-26T17:57:13.078Z"
    },
    "scrolled": true
   },
   "outputs": [],
   "source": []
  },
  {
   "cell_type": "code",
   "execution_count": null,
   "metadata": {
    "ExecuteTime": {
     "end_time": "2017-07-26T17:14:36.304185Z",
     "start_time": "2017-07-26T17:14:23.513659Z"
    },
    "scrolled": true
   },
   "outputs": [],
   "source": []
  },
  {
   "cell_type": "code",
   "execution_count": null,
   "metadata": {
    "ExecuteTime": {
     "end_time": "2017-07-26T17:14:53.241527Z",
     "start_time": "2017-07-26T17:14:46.698348Z"
    }
   },
   "outputs": [],
   "source": []
  },
  {
   "cell_type": "code",
   "execution_count": null,
   "metadata": {
    "ExecuteTime": {
     "end_time": "2017-07-26T17:16:21.326131Z",
     "start_time": "2017-07-26T17:16:21.323820Z"
    }
   },
   "outputs": [],
   "source": []
  },
  {
   "cell_type": "markdown",
   "metadata": {},
   "source": [
    "### Feature importance"
   ]
  },
  {
   "cell_type": "code",
   "execution_count": null,
   "metadata": {
    "ExecuteTime": {
     "end_time": "2017-07-25T23:46:22.294516Z",
     "start_time": "2017-07-25T23:46:22.292259Z"
    }
   },
   "outputs": [],
   "source": []
  },
  {
   "cell_type": "code",
   "execution_count": null,
   "metadata": {
    "ExecuteTime": {
     "end_time": "2017-07-26T16:51:43.892720Z",
     "start_time": "2017-07-26T16:51:43.047556Z"
    }
   },
   "outputs": [],
   "source": []
  },
  {
   "cell_type": "code",
   "execution_count": null,
   "metadata": {
    "ExecuteTime": {
     "end_time": "2017-07-26T17:45:28.906561Z",
     "start_time": "2017-07-26T17:45:21.986137Z"
    },
    "scrolled": true
   },
   "outputs": [],
   "source": []
  },
  {
   "cell_type": "code",
   "execution_count": null,
   "metadata": {
    "ExecuteTime": {
     "end_time": "2017-07-26T17:45:28.918416Z",
     "start_time": "2017-07-26T17:45:28.908061Z"
    }
   },
   "outputs": [],
   "source": []
  },
  {
   "cell_type": "code",
   "execution_count": null,
   "metadata": {
    "ExecuteTime": {
     "end_time": "2017-07-26T17:45:29.295566Z",
     "start_time": "2017-07-26T17:45:28.920505Z"
    }
   },
   "outputs": [],
   "source": []
  },
  {
   "cell_type": "code",
   "execution_count": null,
   "metadata": {},
   "outputs": [],
   "source": []
  }
 ],
 "metadata": {
  "kernelspec": {
   "display_name": "Python 3",
   "language": "python",
   "name": "python3"
  },
  "language_info": {
   "codemirror_mode": {
    "name": "ipython",
    "version": 3
   },
   "file_extension": ".py",
   "mimetype": "text/x-python",
   "name": "python",
   "nbconvert_exporter": "python",
   "pygments_lexer": "ipython3",
   "version": "3.6.5"
  },
  "toc": {
   "colors": {
    "hover_highlight": "#DAA520",
    "navigate_num": "#000000",
    "navigate_text": "#333333",
    "running_highlight": "#FF0000",
    "selected_highlight": "#FFD700",
    "sidebar_border": "#EEEEEE",
    "wrapper_background": "#FFFFFF"
   },
   "moveMenuLeft": true,
   "nav_menu": {
    "height": "12px",
    "width": "252px"
   },
   "navigate_menu": true,
   "number_sections": true,
   "sideBar": true,
   "threshold": 4,
   "toc_cell": false,
   "toc_section_display": "block",
   "toc_window_display": false,
   "widenNotebook": false
  }
 },
 "nbformat": 4,
 "nbformat_minor": 2
}
